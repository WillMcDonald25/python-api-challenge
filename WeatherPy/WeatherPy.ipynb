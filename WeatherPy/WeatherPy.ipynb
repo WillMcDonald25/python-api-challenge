{
 "cells": [
  {
   "cell_type": "markdown",
   "metadata": {},
   "source": [
    "# WeatherPy\n",
    "\n",
    "---\n",
    "\n",
    "## Starter Code to Generate Random Geographic Coordinates and a List of Cities"
   ]
  },
  {
   "cell_type": "code",
   "execution_count": 1,
   "metadata": {
    "scrolled": true
   },
   "outputs": [],
   "source": [
    "# Dependencies and Setup\n",
    "import matplotlib.pyplot as plt\n",
    "import pandas as pd\n",
    "import numpy as np\n",
    "import requests\n",
    "import time\n",
    "from scipy.stats import linregress\n",
    "\n",
    "# Impor the OpenWeatherMap API key\n",
    "from config import weather_api_key\n",
    "\n",
    "# Import citipy to determine the cities based on latitude and longitude\n",
    "from citipy import citipy"
   ]
  },
  {
   "cell_type": "markdown",
   "metadata": {},
   "source": [
    "### Generate the Cities List by Using the `citipy` Library"
   ]
  },
  {
   "cell_type": "code",
   "execution_count": 2,
   "metadata": {},
   "outputs": [
    {
     "name": "stdout",
     "output_type": "stream",
     "text": [
      "Number of cities in the list: 600\n"
     ]
    }
   ],
   "source": [
    "# Empty list for holding the latitude and longitude combinations\n",
    "lat_lngs = []\n",
    "\n",
    "# Empty list for holding the cities names\n",
    "cities = []\n",
    "\n",
    "# Range of latitudes and longitudes\n",
    "lat_range = (-90, 90)\n",
    "lng_range = (-180, 180)\n",
    "\n",
    "# Create a set of random lat and lng combinations\n",
    "lats = np.random.uniform(lat_range[0], lat_range[1], size=1500)\n",
    "lngs = np.random.uniform(lng_range[0], lng_range[1], size=1500)\n",
    "lat_lngs = zip(lats, lngs)\n",
    "\n",
    "# Identify nearest city for each lat, lng combination\n",
    "for lat_lng in lat_lngs:\n",
    "    city = citipy.nearest_city(lat_lng[0], lat_lng[1]).city_name\n",
    "    \n",
    "    # If the city is unique, then add it to a our cities list\n",
    "    if city not in cities:\n",
    "        cities.append(city)\n",
    "\n",
    "# Print the city count to confirm sufficient count\n",
    "print(f\"Number of cities in the list: {len(cities)}\")"
   ]
  },
  {
   "cell_type": "markdown",
   "metadata": {},
   "source": [
    "---"
   ]
  },
  {
   "cell_type": "markdown",
   "metadata": {},
   "source": [
    "## Requirement 1: Create Plots to Showcase the Relationship Between Weather Variables and Latitude\n",
    "\n",
    "### Use the OpenWeatherMap API to retrieve weather data from the cities list generated in the started code"
   ]
  },
  {
   "cell_type": "code",
   "execution_count": 4,
   "metadata": {},
   "outputs": [
    {
     "name": "stdout",
     "output_type": "stream",
     "text": [
      "Beginning Data Retrieval     \n",
      "-----------------------------\n",
      "Processing Record 1 of Set 1 | rio grande\n",
      "Processing Record 2 of Set 1 | qaanaaq\n",
      "Processing Record 3 of Set 1 | sarai naurang\n",
      "Processing Record 4 of Set 1 | tuatapere\n",
      "Processing Record 5 of Set 1 | albany\n",
      "Processing Record 6 of Set 1 | tsienyane\n",
      "City not found. Skipping...\n",
      "Processing Record 7 of Set 1 | cherskiy\n",
      "Processing Record 8 of Set 1 | attawapiskat\n",
      "City not found. Skipping...\n",
      "Processing Record 9 of Set 1 | kahului\n",
      "Processing Record 10 of Set 1 | taolanaro\n",
      "City not found. Skipping...\n",
      "Processing Record 11 of Set 1 | jamestown\n",
      "Processing Record 12 of Set 1 | rikitea\n",
      "Processing Record 13 of Set 1 | ushuaia\n",
      "Processing Record 14 of Set 1 | vaini\n",
      "Processing Record 15 of Set 1 | kapaa\n",
      "Processing Record 16 of Set 1 | najran\n",
      "Processing Record 17 of Set 1 | nsanje\n",
      "Processing Record 18 of Set 1 | portoferraio\n",
      "Processing Record 19 of Set 1 | skibbereen\n",
      "Processing Record 20 of Set 1 | kodiak\n",
      "Processing Record 21 of Set 1 | saleaula\n",
      "City not found. Skipping...\n",
      "Processing Record 22 of Set 1 | upernavik\n",
      "Processing Record 23 of Set 1 | vallenar\n",
      "Processing Record 24 of Set 1 | adrar\n",
      "Processing Record 25 of Set 1 | mahenge\n",
      "Processing Record 26 of Set 1 | new norfolk\n",
      "Processing Record 27 of Set 1 | kruisfontein\n",
      "Processing Record 28 of Set 1 | nizhneyansk\n",
      "City not found. Skipping...\n",
      "Processing Record 29 of Set 1 | port alfred\n",
      "Processing Record 30 of Set 1 | leningradskiy\n",
      "Processing Record 31 of Set 1 | kaduy\n",
      "Processing Record 32 of Set 1 | sibuco\n",
      "Processing Record 33 of Set 1 | mazatlan\n",
      "Processing Record 34 of Set 1 | colares\n",
      "Processing Record 35 of Set 1 | tiksi\n",
      "Processing Record 36 of Set 1 | kununurra\n",
      "Processing Record 37 of Set 1 | yazman\n",
      "Processing Record 38 of Set 1 | punta arenas\n",
      "Processing Record 39 of Set 1 | busselton\n",
      "Processing Record 40 of Set 1 | puerto madryn\n",
      "Processing Record 41 of Set 1 | erzin\n",
      "Processing Record 42 of Set 1 | sentyabrskiy\n",
      "City not found. Skipping...\n",
      "Processing Record 43 of Set 1 | amderma\n",
      "City not found. Skipping...\n",
      "Processing Record 44 of Set 1 | bardiyah\n",
      "Processing Record 45 of Set 1 | tasiilaq\n",
      "Processing Record 46 of Set 1 | bluff\n",
      "Processing Record 47 of Set 1 | narsaq\n",
      "Processing Record 48 of Set 1 | san carlos\n",
      "Processing Record 49 of Set 1 | east london\n",
      "Processing Record 50 of Set 1 | ballina\n",
      "Processing Record 0 of Set 2 | north myrtle beach\n",
      "Processing Record 1 of Set 2 | yamada\n",
      "Processing Record 2 of Set 2 | conde\n",
      "Processing Record 3 of Set 2 | sao filipe\n",
      "Processing Record 4 of Set 2 | necochea\n",
      "Processing Record 5 of Set 2 | beroroha\n",
      "Processing Record 6 of Set 2 | road town\n",
      "Processing Record 7 of Set 2 | jalu\n",
      "Processing Record 8 of Set 2 | olafsvik\n",
      "Processing Record 9 of Set 2 | faya\n",
      "Processing Record 10 of Set 2 | port hardy\n",
      "Processing Record 11 of Set 2 | alanya\n",
      "Processing Record 12 of Set 2 | bengkulu\n",
      "Processing Record 13 of Set 2 | alyangula\n",
      "Processing Record 14 of Set 2 | lompoc\n",
      "Processing Record 15 of Set 2 | kamenka\n",
      "Processing Record 16 of Set 2 | egvekinot\n",
      "Processing Record 17 of Set 2 | klaksvik\n",
      "Processing Record 18 of Set 2 | half moon bay\n",
      "Processing Record 19 of Set 2 | la orilla\n",
      "Processing Record 20 of Set 2 | lanxi\n",
      "Processing Record 21 of Set 2 | mahebourg\n",
      "Processing Record 22 of Set 2 | bethel\n",
      "Processing Record 23 of Set 2 | maturin\n",
      "Processing Record 24 of Set 2 | port pirie\n",
      "Processing Record 25 of Set 2 | coahuayana\n",
      "Processing Record 26 of Set 2 | vao\n",
      "Processing Record 27 of Set 2 | batagay\n",
      "Processing Record 28 of Set 2 | lakes entrance\n",
      "Processing Record 29 of Set 2 | deputatskiy\n",
      "Processing Record 30 of Set 2 | porto nacional\n",
      "Processing Record 31 of Set 2 | nikolskoye\n",
      "Processing Record 32 of Set 2 | chokurdakh\n",
      "Processing Record 33 of Set 2 | illoqqortoormiut\n",
      "City not found. Skipping...\n",
      "Processing Record 34 of Set 2 | mar del plata\n",
      "Processing Record 35 of Set 2 | guozhen\n",
      "Processing Record 36 of Set 2 | butaritari\n",
      "Processing Record 37 of Set 2 | bambous virieux\n",
      "Processing Record 38 of Set 2 | cayenne\n",
      "Processing Record 39 of Set 2 | thompson\n",
      "Processing Record 40 of Set 2 | hermanus\n",
      "Processing Record 41 of Set 2 | jatiroto\n",
      "Processing Record 42 of Set 2 | nanortalik\n",
      "Processing Record 43 of Set 2 | coquimbo\n",
      "Processing Record 44 of Set 2 | souillac\n",
      "Processing Record 45 of Set 2 | bredasdorp\n",
      "Processing Record 46 of Set 2 | saint george\n",
      "Processing Record 47 of Set 2 | puerto ayora\n",
      "Processing Record 48 of Set 2 | bolshoye polpino\n",
      "City not found. Skipping...\n",
      "Processing Record 49 of Set 2 | roald\n",
      "Processing Record 0 of Set 3 | fortuna\n",
      "Processing Record 1 of Set 3 | homer\n",
      "Processing Record 2 of Set 3 | dikson\n",
      "Processing Record 3 of Set 3 | banjar\n",
      "Processing Record 4 of Set 3 | stephenville crossing\n",
      "Processing Record 5 of Set 3 | ancud\n",
      "Processing Record 6 of Set 3 | provideniya\n",
      "Processing Record 7 of Set 3 | atuona\n",
      "Processing Record 8 of Set 3 | chuy\n",
      "Processing Record 9 of Set 3 | avarua\n",
      "Processing Record 10 of Set 3 | sitka\n",
      "Processing Record 11 of Set 3 | mataura\n",
      "Processing Record 12 of Set 3 | taburi\n",
      "City not found. Skipping...\n",
      "Processing Record 13 of Set 3 | balkanabat\n",
      "Processing Record 14 of Set 3 | ribeira grande\n",
      "Processing Record 15 of Set 3 | gushikawa\n",
      "Processing Record 16 of Set 3 | churapcha\n",
      "Processing Record 17 of Set 3 | carnarvon\n",
      "Processing Record 18 of Set 3 | cape town\n",
      "Processing Record 19 of Set 3 | darhan\n",
      "Processing Record 20 of Set 3 | meppen\n",
      "Processing Record 21 of Set 3 | kitimat\n",
      "Processing Record 22 of Set 3 | lodwar\n",
      "Processing Record 23 of Set 3 | formosa\n",
      "Processing Record 24 of Set 3 | barrow\n",
      "Processing Record 25 of Set 3 | ilhabela\n",
      "Processing Record 26 of Set 3 | sabak\n",
      "Processing Record 27 of Set 3 | hasaki\n",
      "Processing Record 28 of Set 3 | goksun\n",
      "Processing Record 29 of Set 3 | jaszszentlaszlo\n",
      "Processing Record 30 of Set 3 | marcona\n",
      "City not found. Skipping...\n",
      "Processing Record 31 of Set 3 | ostrovnoy\n",
      "Processing Record 32 of Set 3 | kupang\n",
      "Processing Record 33 of Set 3 | port blair\n",
      "Processing Record 34 of Set 3 | portland\n",
      "Processing Record 35 of Set 3 | sangar\n",
      "Processing Record 36 of Set 3 | poum\n",
      "Processing Record 37 of Set 3 | borba\n",
      "Processing Record 38 of Set 3 | aktash\n",
      "Processing Record 39 of Set 3 | touros\n",
      "Processing Record 40 of Set 3 | mahibadhoo\n",
      "Processing Record 41 of Set 3 | lavrentiya\n",
      "Processing Record 42 of Set 3 | horta\n",
      "Processing Record 43 of Set 3 | ilulissat\n",
      "Processing Record 44 of Set 3 | meulaboh\n",
      "Processing Record 45 of Set 3 | savannah bight\n",
      "Processing Record 46 of Set 3 | manado\n",
      "Processing Record 47 of Set 3 | armidale\n",
      "Processing Record 48 of Set 3 | airai\n",
      "Processing Record 49 of Set 3 | rochegda\n",
      "Processing Record 0 of Set 4 | norman wells\n",
      "Processing Record 1 of Set 4 | hirara\n",
      "Processing Record 2 of Set 4 | tsaratanana\n",
      "Processing Record 3 of Set 4 | powell\n",
      "Processing Record 4 of Set 4 | zherdevka\n",
      "Processing Record 5 of Set 4 | fort nelson\n",
      "Processing Record 6 of Set 4 | barreiras\n",
      "Processing Record 7 of Set 4 | hithadhoo\n",
      "Processing Record 8 of Set 4 | redcliffe\n",
      "Processing Record 9 of Set 4 | san quintin\n",
      "Processing Record 10 of Set 4 | pierre\n",
      "Processing Record 11 of Set 4 | zhigansk\n",
      "Processing Record 12 of Set 4 | ponta do sol\n",
      "Processing Record 13 of Set 4 | lincoln\n",
      "Processing Record 14 of Set 4 | palabuhanratu\n",
      "City not found. Skipping...\n",
      "Processing Record 15 of Set 4 | castro\n",
      "Processing Record 16 of Set 4 | los llanos de aridane\n",
      "Processing Record 17 of Set 4 | bonavista\n",
      "Processing Record 18 of Set 4 | lewisporte\n",
      "Processing Record 19 of Set 4 | codrington\n",
      "Processing Record 20 of Set 4 | hobart\n",
      "Processing Record 21 of Set 4 | ipixuna\n",
      "Processing Record 22 of Set 4 | coihaique\n",
      "Processing Record 23 of Set 4 | constitucion\n",
      "Processing Record 24 of Set 4 | prince albert\n",
      "Processing Record 25 of Set 4 | guerrero negro\n",
      "Processing Record 26 of Set 4 | hilo\n",
      "Processing Record 27 of Set 4 | khatanga\n",
      "Processing Record 28 of Set 4 | tuktoyaktuk\n",
      "Processing Record 29 of Set 4 | havoysund\n",
      "Processing Record 30 of Set 4 | nago\n",
      "Processing Record 31 of Set 4 | yellowknife\n",
      "Processing Record 32 of Set 4 | saint aubin\n",
      "Processing Record 33 of Set 4 | palembang\n",
      "Processing Record 34 of Set 4 | westport\n",
      "Processing Record 35 of Set 4 | skeldon\n",
      "Processing Record 36 of Set 4 | torbay\n",
      "Processing Record 37 of Set 4 | menongue\n",
      "Processing Record 38 of Set 4 | pevek\n"
     ]
    },
    {
     "name": "stdout",
     "output_type": "stream",
     "text": [
      "Processing Record 39 of Set 4 | paita\n",
      "Processing Record 40 of Set 4 | udachnyy\n",
      "Processing Record 41 of Set 4 | nara\n",
      "Processing Record 42 of Set 4 | sambava\n",
      "Processing Record 43 of Set 4 | great bend\n",
      "Processing Record 44 of Set 4 | arraial do cabo\n",
      "Processing Record 45 of Set 4 | nouadhibou\n",
      "Processing Record 46 of Set 4 | sorland\n",
      "Processing Record 47 of Set 4 | altamira\n",
      "Processing Record 48 of Set 4 | solnechnyy\n",
      "Processing Record 49 of Set 4 | along\n",
      "Processing Record 0 of Set 5 | tumannyy\n",
      "City not found. Skipping...\n",
      "Processing Record 1 of Set 5 | pousat\n",
      "City not found. Skipping...\n",
      "Processing Record 2 of Set 5 | belushya guba\n",
      "City not found. Skipping...\n",
      "Processing Record 3 of Set 5 | vaitupu\n",
      "City not found. Skipping...\n",
      "Processing Record 4 of Set 5 | saint-philippe\n",
      "Processing Record 5 of Set 5 | rundu\n",
      "Processing Record 6 of Set 5 | caravelas\n",
      "Processing Record 7 of Set 5 | grand river south east\n",
      "City not found. Skipping...\n",
      "Processing Record 8 of Set 5 | black river\n",
      "Processing Record 9 of Set 5 | hunza\n",
      "City not found. Skipping...\n",
      "Processing Record 10 of Set 5 | guican\n",
      "Processing Record 11 of Set 5 | san jose\n",
      "Processing Record 12 of Set 5 | krasnoarmeysk\n",
      "Processing Record 13 of Set 5 | gulshat\n",
      "City not found. Skipping...\n",
      "Processing Record 14 of Set 5 | nome\n",
      "Processing Record 15 of Set 5 | grindavik\n",
      "Processing Record 16 of Set 5 | beringovskiy\n",
      "Processing Record 17 of Set 5 | khrustalnyy\n",
      "City not found. Skipping...\n",
      "Processing Record 18 of Set 5 | laguna\n",
      "Processing Record 19 of Set 5 | zimovniki\n",
      "Processing Record 20 of Set 5 | taksimo\n",
      "Processing Record 21 of Set 5 | briancon\n",
      "Processing Record 22 of Set 5 | crab hill\n",
      "City not found. Skipping...\n",
      "Processing Record 23 of Set 5 | de-kastri\n",
      "Processing Record 24 of Set 5 | nuqui\n",
      "Processing Record 25 of Set 5 | sabang\n",
      "Processing Record 26 of Set 5 | cidreira\n",
      "Processing Record 27 of Set 5 | buenavista\n",
      "Processing Record 28 of Set 5 | halifax\n",
      "Processing Record 29 of Set 5 | talnakh\n",
      "Processing Record 30 of Set 5 | ouricuri\n",
      "Processing Record 31 of Set 5 | limulunga\n",
      "Processing Record 32 of Set 5 | voh\n",
      "Processing Record 33 of Set 5 | launceston\n",
      "Processing Record 34 of Set 5 | moose factory\n",
      "Processing Record 35 of Set 5 | vestmannaeyjar\n",
      "Processing Record 36 of Set 5 | tsihombe\n",
      "City not found. Skipping...\n",
      "Processing Record 37 of Set 5 | mjolby\n",
      "Processing Record 38 of Set 5 | avila\n",
      "Processing Record 39 of Set 5 | qui nhon\n",
      "Processing Record 40 of Set 5 | port lincoln\n",
      "Processing Record 41 of Set 5 | cullman\n",
      "Processing Record 42 of Set 5 | cap malheureux\n",
      "Processing Record 43 of Set 5 | kysyl-syr\n",
      "Processing Record 44 of Set 5 | clyde river\n",
      "Processing Record 45 of Set 5 | gonen\n",
      "Processing Record 46 of Set 5 | mayo\n",
      "Processing Record 47 of Set 5 | marsabit\n",
      "Processing Record 48 of Set 5 | gold coast\n",
      "Processing Record 49 of Set 5 | hamilton\n",
      "Processing Record 0 of Set 6 | pilar\n",
      "Processing Record 1 of Set 6 | ceres\n",
      "Processing Record 2 of Set 6 | aflu\n",
      "City not found. Skipping...\n",
      "Processing Record 3 of Set 6 | geraldton\n",
      "Processing Record 4 of Set 6 | khammam\n",
      "Processing Record 5 of Set 6 | phan rang\n",
      "City not found. Skipping...\n",
      "Processing Record 6 of Set 6 | salalah\n",
      "Processing Record 7 of Set 6 | gigmoto\n",
      "Processing Record 8 of Set 6 | vilhena\n",
      "Processing Record 9 of Set 6 | araguaina\n",
      "Processing Record 10 of Set 6 | soyo\n",
      "Processing Record 11 of Set 6 | huilong\n",
      "Processing Record 12 of Set 6 | sao felix do xingu\n",
      "Processing Record 13 of Set 6 | kanniyakumari\n",
      "Processing Record 14 of Set 6 | poya\n",
      "Processing Record 15 of Set 6 | malanje\n",
      "Processing Record 16 of Set 6 | mangan\n",
      "Processing Record 17 of Set 6 | ndele\n",
      "Processing Record 18 of Set 6 | wagar\n",
      "Processing Record 19 of Set 6 | hambantota\n",
      "Processing Record 20 of Set 6 | kavieng\n",
      "Processing Record 21 of Set 6 | fairbanks\n",
      "Processing Record 22 of Set 6 | pueblo nuevo\n",
      "Processing Record 23 of Set 6 | port hawkesbury\n",
      "Processing Record 24 of Set 6 | bako\n",
      "Processing Record 25 of Set 6 | shuiji\n",
      "Processing Record 26 of Set 6 | alexandria\n",
      "Processing Record 27 of Set 6 | mutsamudu\n",
      "City not found. Skipping...\n",
      "Processing Record 28 of Set 6 | solovetskiy\n",
      "City not found. Skipping...\n",
      "Processing Record 29 of Set 6 | terrak\n",
      "Processing Record 30 of Set 6 | saint-pierre\n",
      "Processing Record 31 of Set 6 | ko samui\n",
      "Processing Record 32 of Set 6 | katsuura\n",
      "Processing Record 33 of Set 6 | makakilo city\n",
      "Processing Record 34 of Set 6 | karamay\n",
      "City not found. Skipping...\n",
      "Processing Record 35 of Set 6 | korla\n",
      "Processing Record 36 of Set 6 | dingle\n",
      "Processing Record 37 of Set 6 | inhambane\n",
      "Processing Record 38 of Set 6 | lebu\n",
      "Processing Record 39 of Set 6 | yumen\n",
      "Processing Record 40 of Set 6 | laredo\n",
      "Processing Record 41 of Set 6 | surgana\n",
      "Processing Record 42 of Set 6 | vostok\n",
      "Processing Record 43 of Set 6 | lagoa\n",
      "Processing Record 44 of Set 6 | yeppoon\n",
      "Processing Record 45 of Set 6 | kaitangata\n",
      "Processing Record 46 of Set 6 | shihezi\n",
      "Processing Record 47 of Set 6 | cherdyn\n",
      "Processing Record 48 of Set 6 | berdigestyakh\n",
      "Processing Record 49 of Set 6 | hailey\n",
      "Processing Record 0 of Set 7 | gidrotorf\n",
      "Processing Record 1 of Set 7 | martapura\n",
      "Processing Record 2 of Set 7 | matagami\n",
      "Processing Record 3 of Set 7 | ahipara\n",
      "Processing Record 4 of Set 7 | jalingo\n",
      "Processing Record 5 of Set 7 | palencia\n",
      "Processing Record 6 of Set 7 | esperance\n",
      "Processing Record 7 of Set 7 | abilene\n",
      "Processing Record 8 of Set 7 | pechenga\n",
      "Processing Record 9 of Set 7 | stornoway\n",
      "Processing Record 10 of Set 7 | barentsburg\n",
      "City not found. Skipping...\n",
      "Processing Record 11 of Set 7 | jinan\n",
      "Processing Record 12 of Set 7 | longyearbyen\n",
      "Processing Record 13 of Set 7 | hobyo\n",
      "Processing Record 14 of Set 7 | port elizabeth\n",
      "Processing Record 15 of Set 7 | perelyub\n",
      "Processing Record 16 of Set 7 | hokitika\n",
      "Processing Record 17 of Set 7 | lolua\n",
      "City not found. Skipping...\n",
      "Processing Record 18 of Set 7 | bathurst\n",
      "Processing Record 19 of Set 7 | saldanha\n",
      "Processing Record 20 of Set 7 | enumclaw\n",
      "Processing Record 21 of Set 7 | newport\n",
      "Processing Record 22 of Set 7 | merauke\n",
      "Processing Record 23 of Set 7 | lumeje\n",
      "Processing Record 24 of Set 7 | asau\n",
      "Processing Record 25 of Set 7 | praia da vitoria\n",
      "Processing Record 26 of Set 7 | parbatipur\n",
      "Processing Record 27 of Set 7 | iringa\n",
      "Processing Record 28 of Set 7 | finca cincuenta y uno\n",
      "City not found. Skipping...\n",
      "Processing Record 29 of Set 7 | flinders\n",
      "Processing Record 30 of Set 7 | sibolga\n",
      "Processing Record 31 of Set 7 | oranjestad\n",
      "Processing Record 32 of Set 7 | georgetown\n",
      "Processing Record 33 of Set 7 | aljezur\n",
      "Processing Record 34 of Set 7 | aksha\n",
      "Processing Record 35 of Set 7 | camacha\n",
      "Processing Record 36 of Set 7 | mys shmidta\n",
      "City not found. Skipping...\n",
      "Processing Record 37 of Set 7 | derzhavinsk\n",
      "Processing Record 38 of Set 7 | nemuro\n",
      "Processing Record 39 of Set 7 | broken hill\n",
      "Processing Record 40 of Set 7 | kandrian\n",
      "Processing Record 41 of Set 7 | kutum\n",
      "Processing Record 42 of Set 7 | kadoma\n",
      "Processing Record 43 of Set 7 | sorong\n",
      "Processing Record 44 of Set 7 | karratha\n",
      "Processing Record 45 of Set 7 | seymchan\n",
      "Processing Record 46 of Set 7 | ha tinh\n",
      "Processing Record 47 of Set 7 | byron bay\n",
      "Processing Record 48 of Set 7 | rio brilhante\n",
      "Processing Record 49 of Set 7 | basco\n",
      "Processing Record 0 of Set 8 | tual\n",
      "Processing Record 1 of Set 8 | victoria\n",
      "Processing Record 2 of Set 8 | luanda\n",
      "Processing Record 3 of Set 8 | vanimo\n",
      "Processing Record 4 of Set 8 | abnub\n",
      "Processing Record 5 of Set 8 | wentzville\n",
      "Processing Record 6 of Set 8 | anadyr\n",
      "Processing Record 7 of Set 8 | kavaratti\n",
      "Processing Record 8 of Set 8 | severomuysk\n",
      "Processing Record 9 of Set 8 | vangaindrano\n",
      "Processing Record 10 of Set 8 | san vicente\n",
      "Processing Record 11 of Set 8 | sapernoye\n",
      "Processing Record 12 of Set 8 | tabiauea\n",
      "City not found. Skipping...\n",
      "Processing Record 13 of Set 8 | klyuchi\n",
      "Processing Record 14 of Set 8 | eureka\n",
      "Processing Record 15 of Set 8 | ciudad bolivar\n",
      "Processing Record 16 of Set 8 | celestun\n",
      "Processing Record 17 of Set 8 | luwuk\n",
      "Processing Record 18 of Set 8 | ayan\n",
      "Processing Record 19 of Set 8 | latung\n",
      "Processing Record 20 of Set 8 | juegang\n",
      "Processing Record 21 of Set 8 | azul\n",
      "Processing Record 22 of Set 8 | chany\n",
      "Processing Record 23 of Set 8 | kuldiga\n",
      "Processing Record 24 of Set 8 | esso\n",
      "Processing Record 25 of Set 8 | beyneu\n",
      "Processing Record 26 of Set 8 | cartagena del chaira\n"
     ]
    },
    {
     "name": "stdout",
     "output_type": "stream",
     "text": [
      "Processing Record 27 of Set 8 | pudozh\n",
      "Processing Record 28 of Set 8 | vardo\n",
      "Processing Record 29 of Set 8 | arvika\n",
      "Processing Record 30 of Set 8 | pedasi\n",
      "Processing Record 31 of Set 8 | copiapo\n",
      "Processing Record 32 of Set 8 | silvan\n",
      "Processing Record 33 of Set 8 | millerovo\n",
      "Processing Record 34 of Set 8 | yatou\n",
      "Processing Record 35 of Set 8 | anjiang\n",
      "Processing Record 36 of Set 8 | quang ngai\n",
      "Processing Record 37 of Set 8 | la romana\n",
      "Processing Record 38 of Set 8 | thinadhoo\n",
      "Processing Record 39 of Set 8 | tautira\n",
      "Processing Record 40 of Set 8 | bajram curri\n",
      "Processing Record 41 of Set 8 | dzhebariki-khaya\n",
      "Processing Record 42 of Set 8 | duayaw nkwanta\n",
      "Processing Record 43 of Set 8 | mandiana\n",
      "Processing Record 44 of Set 8 | cabo san lucas\n",
      "Processing Record 45 of Set 8 | hami\n",
      "Processing Record 46 of Set 8 | teknaf\n",
      "Processing Record 47 of Set 8 | kalmunai\n",
      "Processing Record 48 of Set 8 | scottsburgh\n",
      "City not found. Skipping...\n",
      "Processing Record 49 of Set 8 | namibe\n",
      "Processing Record 0 of Set 9 | goundam\n",
      "Processing Record 1 of Set 9 | kirillov\n",
      "Processing Record 2 of Set 9 | lasa\n",
      "Processing Record 3 of Set 9 | port-cartier\n",
      "Processing Record 4 of Set 9 | rungata\n",
      "City not found. Skipping...\n",
      "Processing Record 5 of Set 9 | jazzin\n",
      "City not found. Skipping...\n",
      "Processing Record 6 of Set 9 | padang\n",
      "Processing Record 7 of Set 9 | mahajanga\n",
      "Processing Record 8 of Set 9 | porto torres\n",
      "Processing Record 9 of Set 9 | saskylakh\n",
      "Processing Record 10 of Set 9 | mangit\n",
      "Processing Record 11 of Set 9 | cockburn harbour\n",
      "City not found. Skipping...\n",
      "Processing Record 12 of Set 9 | waitati\n",
      "Processing Record 13 of Set 9 | yulara\n",
      "Processing Record 14 of Set 9 | tessalit\n",
      "Processing Record 15 of Set 9 | catumbela\n",
      "Processing Record 16 of Set 9 | mahon\n",
      "Processing Record 17 of Set 9 | portobelo\n",
      "Processing Record 18 of Set 9 | nagram\n",
      "Processing Record 19 of Set 9 | la rioja\n",
      "Processing Record 20 of Set 9 | bar harbor\n",
      "Processing Record 21 of Set 9 | iqaluit\n",
      "Processing Record 22 of Set 9 | lorengau\n",
      "Processing Record 23 of Set 9 | ucluelet\n",
      "Processing Record 24 of Set 9 | keelung\n",
      "Processing Record 25 of Set 9 | labuhan\n",
      "Processing Record 26 of Set 9 | aranos\n",
      "Processing Record 27 of Set 9 | taltal\n",
      "Processing Record 28 of Set 9 | biloela\n",
      "Processing Record 29 of Set 9 | baykit\n",
      "Processing Record 30 of Set 9 | pisco\n",
      "Processing Record 31 of Set 9 | komsomolskiy\n",
      "Processing Record 32 of Set 9 | itaituba\n",
      "Processing Record 33 of Set 9 | cururupu\n",
      "Processing Record 34 of Set 9 | shama\n",
      "Processing Record 35 of Set 9 | alugan\n",
      "Processing Record 36 of Set 9 | bay city\n",
      "Processing Record 37 of Set 9 | tevaitoa\n",
      "Processing Record 38 of Set 9 | tooele\n",
      "Processing Record 39 of Set 9 | vorukh\n",
      "Processing Record 40 of Set 9 | barcelos\n",
      "Processing Record 41 of Set 9 | pangai\n",
      "Processing Record 42 of Set 9 | samusu\n",
      "City not found. Skipping...\n",
      "Processing Record 43 of Set 9 | constantine\n",
      "Processing Record 44 of Set 9 | ixtapa\n",
      "Processing Record 45 of Set 9 | bandarbeyla\n",
      "Processing Record 46 of Set 9 | buala\n",
      "Processing Record 47 of Set 9 | pundaguitan\n",
      "Processing Record 48 of Set 9 | la union\n",
      "Processing Record 49 of Set 9 | severo-kurilsk\n",
      "Processing Record 0 of Set 10 | tubruq\n",
      "City not found. Skipping...\n",
      "Processing Record 1 of Set 10 | lamu\n",
      "Processing Record 2 of Set 10 | honiara\n",
      "Processing Record 3 of Set 10 | hovd\n",
      "Processing Record 4 of Set 10 | pacifica\n",
      "Processing Record 5 of Set 10 | srednekolymsk\n",
      "Processing Record 6 of Set 10 | pemberton\n",
      "Processing Record 7 of Set 10 | bonthe\n",
      "Processing Record 8 of Set 10 | dimbokro\n",
      "Processing Record 9 of Set 10 | kenora\n",
      "Processing Record 10 of Set 10 | sibu\n",
      "Processing Record 11 of Set 10 | san patricio\n",
      "Processing Record 12 of Set 10 | chicama\n",
      "Processing Record 13 of Set 10 | pochutla\n",
      "Processing Record 14 of Set 10 | cootamundra\n",
      "Processing Record 15 of Set 10 | santa cruz\n",
      "Processing Record 16 of Set 10 | batticaloa\n",
      "Processing Record 17 of Set 10 | ubala\n",
      "Processing Record 18 of Set 10 | porto belo\n",
      "Processing Record 19 of Set 10 | saint-francois\n",
      "Processing Record 20 of Set 10 | batiano\n",
      "Processing Record 21 of Set 10 | tabou\n",
      "Processing Record 22 of Set 10 | helong\n",
      "Processing Record 23 of Set 10 | kharagpur\n",
      "Processing Record 24 of Set 10 | sananduva\n",
      "Processing Record 25 of Set 10 | abancay\n",
      "Processing Record 26 of Set 10 | sioux lookout\n",
      "Processing Record 27 of Set 10 | talakan\n",
      "Processing Record 28 of Set 10 | zyryanka\n",
      "Processing Record 29 of Set 10 | faanui\n",
      "Processing Record 30 of Set 10 | casian\n",
      "Processing Record 31 of Set 10 | mahroni\n",
      "Processing Record 32 of Set 10 | minna\n",
      "Processing Record 33 of Set 10 | nouakchott\n",
      "Processing Record 34 of Set 10 | mareeba\n",
      "Processing Record 35 of Set 10 | elizabethtown\n",
      "Processing Record 36 of Set 10 | pakhtakoron\n",
      "Processing Record 37 of Set 10 | tondon\n",
      "Processing Record 38 of Set 10 | strezhevoy\n",
      "Processing Record 39 of Set 10 | nanakuli\n",
      "Processing Record 40 of Set 10 | lano\n",
      "Processing Record 41 of Set 10 | the valley\n",
      "Processing Record 42 of Set 10 | paamiut\n",
      "Processing Record 43 of Set 10 | porto novo\n",
      "Processing Record 44 of Set 10 | bathsheba\n",
      "Processing Record 45 of Set 10 | mount gambier\n",
      "Processing Record 46 of Set 10 | port hedland\n",
      "Processing Record 47 of Set 10 | san carlos de bariloche\n",
      "Processing Record 48 of Set 10 | fianga\n",
      "City not found. Skipping...\n",
      "Processing Record 49 of Set 10 | vila velha\n",
      "Processing Record 0 of Set 11 | kaa-khem\n",
      "Processing Record 1 of Set 11 | puerto leguizamo\n",
      "Processing Record 2 of Set 11 | lokosovo\n",
      "Processing Record 3 of Set 11 | matara\n",
      "Processing Record 4 of Set 11 | chumikan\n",
      "Processing Record 5 of Set 11 | pouebo\n",
      "Processing Record 6 of Set 11 | ramhormoz\n",
      "Processing Record 7 of Set 11 | bibiani\n",
      "Processing Record 8 of Set 11 | grootfontein\n",
      "Processing Record 9 of Set 11 | isangel\n",
      "Processing Record 10 of Set 11 | shubarshi\n",
      "Processing Record 11 of Set 11 | flin flon\n",
      "Processing Record 12 of Set 11 | yinchuan\n",
      "Processing Record 13 of Set 11 | popondetta\n",
      "Processing Record 14 of Set 11 | kaka\n",
      "Processing Record 15 of Set 11 | porgera\n",
      "Processing Record 16 of Set 11 | nuuk\n",
      "Processing Record 17 of Set 11 | wuwei\n",
      "Processing Record 18 of Set 11 | kangaba\n",
      "Processing Record 19 of Set 11 | te anau\n",
      "Processing Record 20 of Set 11 | yelnya\n",
      "Processing Record 21 of Set 11 | parkersburg\n",
      "Processing Record 22 of Set 11 | raudeberg\n",
      "Processing Record 23 of Set 11 | talwandi bhai\n",
      "Processing Record 24 of Set 11 | majene\n",
      "Processing Record 25 of Set 11 | talcahuano\n",
      "Processing Record 26 of Set 11 | la ronge\n",
      "Processing Record 27 of Set 11 | lashio\n",
      "Processing Record 28 of Set 11 | tommot\n",
      "Processing Record 29 of Set 11 | lac du bonnet\n",
      "Processing Record 30 of Set 11 | mayskiy\n",
      "Processing Record 31 of Set 11 | urengoy\n",
      "Processing Record 32 of Set 11 | shingu\n",
      "Processing Record 33 of Set 11 | beira\n",
      "Processing Record 34 of Set 11 | sao joao da barra\n",
      "Processing Record 35 of Set 11 | presidencia roque saenz pena\n",
      "Processing Record 36 of Set 11 | ferry pass\n",
      "Processing Record 37 of Set 11 | port macquarie\n",
      "Processing Record 38 of Set 11 | umzimvubu\n",
      "City not found. Skipping...\n",
      "Processing Record 39 of Set 11 | kawalu\n",
      "Processing Record 40 of Set 11 | chibombo\n",
      "Processing Record 41 of Set 11 | ferrol\n",
      "Processing Record 42 of Set 11 | picton\n",
      "Processing Record 43 of Set 11 | eyl\n",
      "Processing Record 44 of Set 11 | rajapur\n",
      "Processing Record 45 of Set 11 | makokou\n",
      "Processing Record 46 of Set 11 | lesozavodsk\n",
      "Processing Record 47 of Set 11 | valparaiso\n",
      "Processing Record 48 of Set 11 | kamenskoye\n",
      "City not found. Skipping...\n",
      "Processing Record 49 of Set 11 | madang\n",
      "Processing Record 0 of Set 12 | azimur\n",
      "City not found. Skipping...\n",
      "Processing Record 1 of Set 12 | tongchuan\n",
      "Processing Record 2 of Set 12 | ajdabiya\n",
      "Processing Record 3 of Set 12 | brownwood\n",
      "Processing Record 4 of Set 12 | tyrma\n",
      "Processing Record 5 of Set 12 | christiana\n",
      "Processing Record 6 of Set 12 | namatanai\n",
      "Processing Record 7 of Set 12 | weatherford\n",
      "Processing Record 8 of Set 12 | saint-joseph\n",
      "Processing Record 9 of Set 12 | ossora\n",
      "Processing Record 10 of Set 12 | mogadishu\n",
      "Processing Record 11 of Set 12 | drayton valley\n",
      "Processing Record 12 of Set 12 | sechura\n",
      "Processing Record 13 of Set 12 | bilgi\n",
      "Processing Record 14 of Set 12 | ibra\n",
      "Processing Record 15 of Set 12 | mecca\n",
      "Processing Record 16 of Set 12 | toamasina\n",
      "Processing Record 17 of Set 12 | charters towers\n"
     ]
    },
    {
     "name": "stdout",
     "output_type": "stream",
     "text": [
      "Processing Record 18 of Set 12 | balkhash\n",
      "Processing Record 19 of Set 12 | lithakia\n",
      "Processing Record 20 of Set 12 | ornskoldsvik\n",
      "Processing Record 21 of Set 12 | kiunga\n",
      "Processing Record 22 of Set 12 | sirjan\n",
      "Processing Record 23 of Set 12 | warrnambool\n",
      "Processing Record 24 of Set 12 | ugoofaaru\n",
      "Processing Record 25 of Set 12 | arlit\n",
      "Processing Record 26 of Set 12 | malwan\n",
      "City not found. Skipping...\n",
      "Processing Record 27 of Set 12 | zeya\n",
      "Processing Record 28 of Set 12 | ciras\n",
      "City not found. Skipping...\n",
      "Processing Record 29 of Set 12 | jaisinghnagar\n",
      "Processing Record 30 of Set 12 | viedma\n",
      "Processing Record 31 of Set 12 | bowen\n",
      "Processing Record 32 of Set 12 | puerto del rosario\n",
      "Processing Record 33 of Set 12 | placido de castro\n",
      "Processing Record 34 of Set 12 | gazimurskiy zavod\n",
      "Processing Record 35 of Set 12 | siniscola\n",
      "Processing Record 36 of Set 12 | yialos\n",
      "City not found. Skipping...\n",
      "Processing Record 37 of Set 12 | barra do garcas\n",
      "Processing Record 38 of Set 12 | haines junction\n",
      "Processing Record 39 of Set 12 | kazalinsk\n",
      "City not found. Skipping...\n",
      "Processing Record 40 of Set 12 | kovur\n",
      "Processing Record 41 of Set 12 | soe\n",
      "Processing Record 42 of Set 12 | marawi\n",
      "Processing Record 43 of Set 12 | manaus\n",
      "Processing Record 44 of Set 12 | richards bay\n",
      "Processing Record 45 of Set 12 | heihe\n",
      "Processing Record 46 of Set 12 | turukhansk\n",
      "Processing Record 47 of Set 12 | aleksandrovka\n",
      "Processing Record 48 of Set 12 | toora-khem\n",
      "Processing Record 49 of Set 12 | mabaruma\n",
      "-----------------------------\n",
      "Data Retrieval Complete      \n",
      "-----------------------------\n"
     ]
    }
   ],
   "source": [
    "# Set the API base URL\n",
    "url = \"http://api.openweathermap.org/data/2.5/weather?\"\n",
    "units = \"metric\"\n",
    "\n",
    "# Define an empty list to fetch the weather data for each city\n",
    "city_data = []\n",
    "\n",
    "# Print to logger\n",
    "print(\"Beginning Data Retrieval     \")\n",
    "print(\"-----------------------------\")\n",
    "\n",
    "# Create counters\n",
    "record_count = 1\n",
    "set_count = 1\n",
    "\n",
    "# Loop through all the cities in our list to fetch weather data\n",
    "for i, city in enumerate(cities):\n",
    "        \n",
    "    # Group cities in sets of 50 for logging purposes\n",
    "    if (i % 50 == 0 and i >= 50):\n",
    "        set_count += 1\n",
    "        record_count = 0\n",
    "\n",
    "    # Create endpoint URL with each city\n",
    "    city_url = f\"{url}appid={weather_api_key}&units={units}&q=\"\n",
    "    \n",
    "    # Log the url, record, and set numbers\n",
    "    print(\"Processing Record %s of Set %s | %s\" % (record_count, set_count, city))\n",
    "\n",
    "    # Add 1 to the record count\n",
    "    record_count += 1\n",
    "\n",
    "    # Run an API request for each of the cities\n",
    "    try:\n",
    "        # Parse the JSON and retrieve data\n",
    "        city_weather = requests.get(city_url + cities[i]).json()\n",
    "\n",
    "        # Parse out latitude, longitude, max temp, humidity, cloudiness, wind speed, country, and date\n",
    "        city_lat = (city_weather[\"coord\"][\"lat\"])\n",
    "        city_lng = (city_weather['coord']['lon'])\n",
    "        city_max_temp = (city_weather['main']['temp_max'])\n",
    "        city_humidity = (city_weather['main']['humidity'])\n",
    "        city_clouds = (city_weather['clouds']['all'])\n",
    "        city_wind = (city_weather['wind']['speed'])\n",
    "        city_country = (city_weather['sys']['country'])\n",
    "        city_date = (city_weather['dt'])\n",
    "        \n",
    "\n",
    "        # Append the City information into city_data list\n",
    "        city_data.append({\"City\": city, \n",
    "                          \"Lat\": city_lat, \n",
    "                          \"Lng\": city_lng, \n",
    "                          \"Max Temp\": city_max_temp,\n",
    "                          \"Humidity\": city_humidity,\n",
    "                          \"Cloudiness\": city_clouds,\n",
    "                          \"Wind Speed\": city_wind,\n",
    "                          \"Country\": city_country,\n",
    "                          \"Date\": city_date})\n",
    "\n",
    "    # If an error is experienced, skip the city\n",
    "    except:\n",
    "        print(\"City not found. Skipping...\")\n",
    "        pass\n",
    "              \n",
    "# Indicate that Data Loading is complete \n",
    "print(\"-----------------------------\")\n",
    "print(\"Data Retrieval Complete      \")\n",
    "print(\"-----------------------------\")"
   ]
  },
  {
   "cell_type": "code",
   "execution_count": 5,
   "metadata": {},
   "outputs": [
    {
     "data": {
      "text/plain": [
       "City          554\n",
       "Lat           554\n",
       "Lng           554\n",
       "Max Temp      554\n",
       "Humidity      554\n",
       "Cloudiness    554\n",
       "Wind Speed    554\n",
       "Country       554\n",
       "Date          554\n",
       "dtype: int64"
      ]
     },
     "execution_count": 5,
     "metadata": {},
     "output_type": "execute_result"
    }
   ],
   "source": [
    "# Convert the cities weather data into a Pandas DataFrame\n",
    " \n",
    "city_data_df = pd.DataFrame(city_data)\n",
    "\n",
    "# Show Record Count\n",
    "city_data_df.count()"
   ]
  },
  {
   "cell_type": "code",
   "execution_count": 6,
   "metadata": {},
   "outputs": [
    {
     "data": {
      "text/html": [
       "<div>\n",
       "<style scoped>\n",
       "    .dataframe tbody tr th:only-of-type {\n",
       "        vertical-align: middle;\n",
       "    }\n",
       "\n",
       "    .dataframe tbody tr th {\n",
       "        vertical-align: top;\n",
       "    }\n",
       "\n",
       "    .dataframe thead th {\n",
       "        text-align: right;\n",
       "    }\n",
       "</style>\n",
       "<table border=\"1\" class=\"dataframe\">\n",
       "  <thead>\n",
       "    <tr style=\"text-align: right;\">\n",
       "      <th></th>\n",
       "      <th>City</th>\n",
       "      <th>Lat</th>\n",
       "      <th>Lng</th>\n",
       "      <th>Max Temp</th>\n",
       "      <th>Humidity</th>\n",
       "      <th>Cloudiness</th>\n",
       "      <th>Wind Speed</th>\n",
       "      <th>Country</th>\n",
       "      <th>Date</th>\n",
       "    </tr>\n",
       "  </thead>\n",
       "  <tbody>\n",
       "    <tr>\n",
       "      <th>0</th>\n",
       "      <td>rio grande</td>\n",
       "      <td>-32.0350</td>\n",
       "      <td>-52.0986</td>\n",
       "      <td>16.55</td>\n",
       "      <td>65</td>\n",
       "      <td>10</td>\n",
       "      <td>4.66</td>\n",
       "      <td>BR</td>\n",
       "      <td>1681441105</td>\n",
       "    </tr>\n",
       "    <tr>\n",
       "      <th>1</th>\n",
       "      <td>qaanaaq</td>\n",
       "      <td>77.4840</td>\n",
       "      <td>-69.3632</td>\n",
       "      <td>-15.38</td>\n",
       "      <td>75</td>\n",
       "      <td>3</td>\n",
       "      <td>2.68</td>\n",
       "      <td>GL</td>\n",
       "      <td>1681441106</td>\n",
       "    </tr>\n",
       "    <tr>\n",
       "      <th>2</th>\n",
       "      <td>sarai naurang</td>\n",
       "      <td>32.8259</td>\n",
       "      <td>70.7814</td>\n",
       "      <td>29.72</td>\n",
       "      <td>23</td>\n",
       "      <td>0</td>\n",
       "      <td>0.72</td>\n",
       "      <td>PK</td>\n",
       "      <td>1681441106</td>\n",
       "    </tr>\n",
       "    <tr>\n",
       "      <th>3</th>\n",
       "      <td>tuatapere</td>\n",
       "      <td>-46.1333</td>\n",
       "      <td>167.6833</td>\n",
       "      <td>17.97</td>\n",
       "      <td>60</td>\n",
       "      <td>0</td>\n",
       "      <td>1.74</td>\n",
       "      <td>NZ</td>\n",
       "      <td>1681441106</td>\n",
       "    </tr>\n",
       "    <tr>\n",
       "      <th>4</th>\n",
       "      <td>albany</td>\n",
       "      <td>42.6001</td>\n",
       "      <td>-73.9662</td>\n",
       "      <td>20.23</td>\n",
       "      <td>56</td>\n",
       "      <td>7</td>\n",
       "      <td>2.04</td>\n",
       "      <td>US</td>\n",
       "      <td>1681440917</td>\n",
       "    </tr>\n",
       "  </tbody>\n",
       "</table>\n",
       "</div>"
      ],
      "text/plain": [
       "            City      Lat       Lng  Max Temp  Humidity  Cloudiness  \\\n",
       "0     rio grande -32.0350  -52.0986     16.55        65          10   \n",
       "1        qaanaaq  77.4840  -69.3632    -15.38        75           3   \n",
       "2  sarai naurang  32.8259   70.7814     29.72        23           0   \n",
       "3      tuatapere -46.1333  167.6833     17.97        60           0   \n",
       "4         albany  42.6001  -73.9662     20.23        56           7   \n",
       "\n",
       "   Wind Speed Country        Date  \n",
       "0        4.66      BR  1681441105  \n",
       "1        2.68      GL  1681441106  \n",
       "2        0.72      PK  1681441106  \n",
       "3        1.74      NZ  1681441106  \n",
       "4        2.04      US  1681440917  "
      ]
     },
     "execution_count": 6,
     "metadata": {},
     "output_type": "execute_result"
    }
   ],
   "source": [
    "# Display sample data\n",
    "city_data_df.head()"
   ]
  },
  {
   "cell_type": "code",
   "execution_count": 7,
   "metadata": {},
   "outputs": [],
   "source": [
    "# Export the City_Data into a csv\n",
    "city_data_df.to_csv(\"../output_data/cities.csv\", index_label=\"City_ID\")"
   ]
  },
  {
   "cell_type": "code",
   "execution_count": 8,
   "metadata": {},
   "outputs": [
    {
     "data": {
      "text/html": [
       "<div>\n",
       "<style scoped>\n",
       "    .dataframe tbody tr th:only-of-type {\n",
       "        vertical-align: middle;\n",
       "    }\n",
       "\n",
       "    .dataframe tbody tr th {\n",
       "        vertical-align: top;\n",
       "    }\n",
       "\n",
       "    .dataframe thead th {\n",
       "        text-align: right;\n",
       "    }\n",
       "</style>\n",
       "<table border=\"1\" class=\"dataframe\">\n",
       "  <thead>\n",
       "    <tr style=\"text-align: right;\">\n",
       "      <th></th>\n",
       "      <th>City</th>\n",
       "      <th>Lat</th>\n",
       "      <th>Lng</th>\n",
       "      <th>Max Temp</th>\n",
       "      <th>Humidity</th>\n",
       "      <th>Cloudiness</th>\n",
       "      <th>Wind Speed</th>\n",
       "      <th>Country</th>\n",
       "      <th>Date</th>\n",
       "    </tr>\n",
       "    <tr>\n",
       "      <th>City_ID</th>\n",
       "      <th></th>\n",
       "      <th></th>\n",
       "      <th></th>\n",
       "      <th></th>\n",
       "      <th></th>\n",
       "      <th></th>\n",
       "      <th></th>\n",
       "      <th></th>\n",
       "      <th></th>\n",
       "    </tr>\n",
       "  </thead>\n",
       "  <tbody>\n",
       "    <tr>\n",
       "      <th>0</th>\n",
       "      <td>rio grande</td>\n",
       "      <td>-32.0350</td>\n",
       "      <td>-52.0986</td>\n",
       "      <td>16.55</td>\n",
       "      <td>65</td>\n",
       "      <td>10</td>\n",
       "      <td>4.66</td>\n",
       "      <td>BR</td>\n",
       "      <td>1681441105</td>\n",
       "    </tr>\n",
       "    <tr>\n",
       "      <th>1</th>\n",
       "      <td>qaanaaq</td>\n",
       "      <td>77.4840</td>\n",
       "      <td>-69.3632</td>\n",
       "      <td>-15.38</td>\n",
       "      <td>75</td>\n",
       "      <td>3</td>\n",
       "      <td>2.68</td>\n",
       "      <td>GL</td>\n",
       "      <td>1681441106</td>\n",
       "    </tr>\n",
       "    <tr>\n",
       "      <th>2</th>\n",
       "      <td>sarai naurang</td>\n",
       "      <td>32.8259</td>\n",
       "      <td>70.7814</td>\n",
       "      <td>29.72</td>\n",
       "      <td>23</td>\n",
       "      <td>0</td>\n",
       "      <td>0.72</td>\n",
       "      <td>PK</td>\n",
       "      <td>1681441106</td>\n",
       "    </tr>\n",
       "    <tr>\n",
       "      <th>3</th>\n",
       "      <td>tuatapere</td>\n",
       "      <td>-46.1333</td>\n",
       "      <td>167.6833</td>\n",
       "      <td>17.97</td>\n",
       "      <td>60</td>\n",
       "      <td>0</td>\n",
       "      <td>1.74</td>\n",
       "      <td>NZ</td>\n",
       "      <td>1681441106</td>\n",
       "    </tr>\n",
       "    <tr>\n",
       "      <th>4</th>\n",
       "      <td>albany</td>\n",
       "      <td>42.6001</td>\n",
       "      <td>-73.9662</td>\n",
       "      <td>20.23</td>\n",
       "      <td>56</td>\n",
       "      <td>7</td>\n",
       "      <td>2.04</td>\n",
       "      <td>US</td>\n",
       "      <td>1681440917</td>\n",
       "    </tr>\n",
       "  </tbody>\n",
       "</table>\n",
       "</div>"
      ],
      "text/plain": [
       "                  City      Lat       Lng  Max Temp  Humidity  Cloudiness  \\\n",
       "City_ID                                                                     \n",
       "0           rio grande -32.0350  -52.0986     16.55        65          10   \n",
       "1              qaanaaq  77.4840  -69.3632    -15.38        75           3   \n",
       "2        sarai naurang  32.8259   70.7814     29.72        23           0   \n",
       "3            tuatapere -46.1333  167.6833     17.97        60           0   \n",
       "4               albany  42.6001  -73.9662     20.23        56           7   \n",
       "\n",
       "         Wind Speed Country        Date  \n",
       "City_ID                                  \n",
       "0              4.66      BR  1681441105  \n",
       "1              2.68      GL  1681441106  \n",
       "2              0.72      PK  1681441106  \n",
       "3              1.74      NZ  1681441106  \n",
       "4              2.04      US  1681440917  "
      ]
     },
     "execution_count": 8,
     "metadata": {},
     "output_type": "execute_result"
    }
   ],
   "source": [
    "# Read saved data\n",
    "city_data_df = pd.read_csv(\"../output_data/cities.csv\", index_col=\"City_ID\")\n",
    "\n",
    "# Display sample data\n",
    "city_data_df.head()"
   ]
  },
  {
   "cell_type": "markdown",
   "metadata": {},
   "source": [
    "### Create the Scatter Plots Requested\n",
    "\n",
    "#### Latitude Vs. Temperature"
   ]
  },
  {
   "cell_type": "code",
   "execution_count": 9,
   "metadata": {
    "tags": []
   },
   "outputs": [
    {
     "data": {
      "image/png": "[encoded data removed]",
      "text/plain": [
       "<Figure size 432x288 with 1 Axes>"
      ]
     },
     "metadata": {
      "needs_background": "light"
     },
     "output_type": "display_data"
    }
   ],
   "source": [
    "# Build scatter plot for latitude vs. temperature\n",
    "# YOUR CODE HERE\n",
    "x_values1 = city_data_df['Lat']\n",
    "y_values1 = city_data_df['Max Temp']\n",
    "plt.scatter(x_values1, y_values1)\n",
    "\n",
    "# Incorporate the other graph properties\n",
    "# YOUR CODE HERE\n",
    "plt.xlabel('Latitude')\n",
    "plt.ylabel('Max Temp')\n",
    "plt.title('Latitude vs. Temperature')\n",
    "# Save the figure\n",
    "plt.savefig(\"../output_data/Fig1.png\")\n",
    "\n",
    "# Show plot\n",
    "plt.show()"
   ]
  },
  {
   "cell_type": "markdown",
   "metadata": {},
   "source": [
    "#### Latitude Vs. Humidity"
   ]
  },
  {
   "cell_type": "code",
   "execution_count": 10,
   "metadata": {},
   "outputs": [
    {
     "data": {
      "image/png": "[encoded data removed]",
      "text/plain": [
       "<Figure size 432x288 with 1 Axes>"
      ]
     },
     "metadata": {
      "needs_background": "light"
     },
     "output_type": "display_data"
    }
   ],
   "source": [
    "# Build the scatter plots for latitude vs. humidity\n",
    "# YOUR CODE HERE\n",
    "x_values2= city_data_df['Lat']\n",
    "y_values2 = city_data_df['Humidity']\n",
    "plt.scatter(x_values2, y_values2)\n",
    "# Incorporate the other graph properties\n",
    "# YOUR CODE HERE\n",
    "plt.xlabel('Latitude')\n",
    "plt.ylabel('Humidity')\n",
    "plt.title('Latitude vs. Humidity')\n",
    "# Save the figure\n",
    "plt.savefig(\"../output_data/Fig2.png\")\n",
    "\n",
    "# Show plot\n",
    "plt.show()"
   ]
  },
  {
   "cell_type": "markdown",
   "metadata": {},
   "source": [
    "#### Latitude Vs. Cloudiness"
   ]
  },
  {
   "cell_type": "code",
   "execution_count": 11,
   "metadata": {},
   "outputs": [
    {
     "data": {
      "image/png": "[encoded data removed]",
      "text/plain": [
       "<Figure size 432x288 with 1 Axes>"
      ]
     },
     "metadata": {
      "needs_background": "light"
     },
     "output_type": "display_data"
    }
   ],
   "source": [
    "# Build the scatter plots for latitude vs. cloudiness\n",
    "# YOUR CODE HERE\n",
    "x_values3= city_data_df['Lat']\n",
    "y_values3 = city_data_df['Cloudiness']\n",
    "plt.scatter(x_values3, y_values3)\n",
    "\n",
    "# Incorporate the other graph properties\n",
    "# YOUR CODE HERE\n",
    "plt.xlabel('Latitude')\n",
    "plt.ylabel('Wind Speed')\n",
    "plt.title('Latitude vs. Wind Speed')\n",
    "# Save the figure\n",
    "plt.savefig(\"../output_data/Fig3.png\")\n",
    "\n",
    "# Show plot\n",
    "plt.show()"
   ]
  },
  {
   "cell_type": "markdown",
   "metadata": {},
   "source": [
    "#### Latitude vs. Wind Speed Plot"
   ]
  },
  {
   "cell_type": "code",
   "execution_count": 12,
   "metadata": {},
   "outputs": [
    {
     "data": {
      "image/png": "[encoded data removed]",
      "text/plain": [
       "<Figure size 432x288 with 1 Axes>"
      ]
     },
     "metadata": {
      "needs_background": "light"
     },
     "output_type": "display_data"
    }
   ],
   "source": [
    "# Build the scatter plots for latitude vs. wind speed\n",
    "# YOUR CODE HERE\n",
    "x_values4= city_data_df['Lat']\n",
    "y_values4 = city_data_df['Wind Speed']\n",
    "plt.scatter(x_values4, y_values4)\n",
    "\n",
    "# Incorporate the other graph properties\n",
    "# YOUR CODE HERE\n",
    "plt.xlabel('Latitude')\n",
    "plt.ylabel('Wind Speed')\n",
    "plt.title('Latitude vs. Wind Speed')\n",
    "\n",
    "# Save the figure\n",
    "plt.savefig(\"../output_data/Fig4.png\")\n",
    "\n",
    "# Show plot\n",
    "plt.show()"
   ]
  },
  {
   "cell_type": "markdown",
   "metadata": {},
   "source": [
    "---\n",
    "\n",
    "## Requirement 2: Compute Linear Regression for Each Relationship\n"
   ]
  },
  {
   "cell_type": "code",
   "execution_count": 24,
   "metadata": {},
   "outputs": [
    {
     "data": {
      "text/html": [
       "<div>\n",
       "<style scoped>\n",
       "    .dataframe tbody tr th:only-of-type {\n",
       "        vertical-align: middle;\n",
       "    }\n",
       "\n",
       "    .dataframe tbody tr th {\n",
       "        vertical-align: top;\n",
       "    }\n",
       "\n",
       "    .dataframe thead th {\n",
       "        text-align: right;\n",
       "    }\n",
       "</style>\n",
       "<table border=\"1\" class=\"dataframe\">\n",
       "  <thead>\n",
       "    <tr style=\"text-align: right;\">\n",
       "      <th></th>\n",
       "      <th>City</th>\n",
       "      <th>Lat</th>\n",
       "      <th>Lng</th>\n",
       "      <th>Max Temp</th>\n",
       "      <th>Humidity</th>\n",
       "      <th>Cloudiness</th>\n",
       "      <th>Wind Speed</th>\n",
       "      <th>Country</th>\n",
       "      <th>Date</th>\n",
       "    </tr>\n",
       "    <tr>\n",
       "      <th>City_ID</th>\n",
       "      <th></th>\n",
       "      <th></th>\n",
       "      <th></th>\n",
       "      <th></th>\n",
       "      <th></th>\n",
       "      <th></th>\n",
       "      <th></th>\n",
       "      <th></th>\n",
       "      <th></th>\n",
       "    </tr>\n",
       "  </thead>\n",
       "  <tbody>\n",
       "    <tr>\n",
       "      <th>1</th>\n",
       "      <td>qaanaaq</td>\n",
       "      <td>77.4840</td>\n",
       "      <td>-69.3632</td>\n",
       "      <td>-15.38</td>\n",
       "      <td>75</td>\n",
       "      <td>3</td>\n",
       "      <td>2.68</td>\n",
       "      <td>GL</td>\n",
       "      <td>1681441106</td>\n",
       "    </tr>\n",
       "    <tr>\n",
       "      <th>2</th>\n",
       "      <td>sarai naurang</td>\n",
       "      <td>32.8259</td>\n",
       "      <td>70.7814</td>\n",
       "      <td>29.72</td>\n",
       "      <td>23</td>\n",
       "      <td>0</td>\n",
       "      <td>0.72</td>\n",
       "      <td>PK</td>\n",
       "      <td>1681441106</td>\n",
       "    </tr>\n",
       "    <tr>\n",
       "      <th>4</th>\n",
       "      <td>albany</td>\n",
       "      <td>42.6001</td>\n",
       "      <td>-73.9662</td>\n",
       "      <td>20.23</td>\n",
       "      <td>56</td>\n",
       "      <td>7</td>\n",
       "      <td>2.04</td>\n",
       "      <td>US</td>\n",
       "      <td>1681440917</td>\n",
       "    </tr>\n",
       "    <tr>\n",
       "      <th>5</th>\n",
       "      <td>cherskiy</td>\n",
       "      <td>68.7500</td>\n",
       "      <td>161.3000</td>\n",
       "      <td>-11.03</td>\n",
       "      <td>77</td>\n",
       "      <td>7</td>\n",
       "      <td>3.29</td>\n",
       "      <td>RU</td>\n",
       "      <td>1681441107</td>\n",
       "    </tr>\n",
       "    <tr>\n",
       "      <th>6</th>\n",
       "      <td>kahului</td>\n",
       "      <td>20.8947</td>\n",
       "      <td>-156.4700</td>\n",
       "      <td>29.01</td>\n",
       "      <td>59</td>\n",
       "      <td>20</td>\n",
       "      <td>9.26</td>\n",
       "      <td>US</td>\n",
       "      <td>1681440976</td>\n",
       "    </tr>\n",
       "  </tbody>\n",
       "</table>\n",
       "</div>"
      ],
      "text/plain": [
       "                  City      Lat       Lng  Max Temp  Humidity  Cloudiness  \\\n",
       "City_ID                                                                     \n",
       "1              qaanaaq  77.4840  -69.3632    -15.38        75           3   \n",
       "2        sarai naurang  32.8259   70.7814     29.72        23           0   \n",
       "4               albany  42.6001  -73.9662     20.23        56           7   \n",
       "5             cherskiy  68.7500  161.3000    -11.03        77           7   \n",
       "6              kahului  20.8947 -156.4700     29.01        59          20   \n",
       "\n",
       "         Wind Speed Country        Date  \n",
       "City_ID                                  \n",
       "1              2.68      GL  1681441106  \n",
       "2              0.72      PK  1681441106  \n",
       "4              2.04      US  1681440917  \n",
       "5              3.29      RU  1681441107  \n",
       "6              9.26      US  1681440976  "
      ]
     },
     "execution_count": 24,
     "metadata": {},
     "output_type": "execute_result"
    }
   ],
   "source": [
    "# Create a DataFrame with the Northern Hemisphere data (Latitude >= 0)\n",
    "# YOUR CODE HERE\n",
    "northern=city_data_df.loc[city_data_df[\"Lat\"]>=0]\n",
    "northern_df = pd.DataFrame(northern)\n",
    "# Display sample data\n",
    "northern_df.head()"
   ]
  },
  {
   "cell_type": "code",
   "execution_count": 25,
   "metadata": {},
   "outputs": [
    {
     "data": {
      "text/html": [
       "<div>\n",
       "<style scoped>\n",
       "    .dataframe tbody tr th:only-of-type {\n",
       "        vertical-align: middle;\n",
       "    }\n",
       "\n",
       "    .dataframe tbody tr th {\n",
       "        vertical-align: top;\n",
       "    }\n",
       "\n",
       "    .dataframe thead th {\n",
       "        text-align: right;\n",
       "    }\n",
       "</style>\n",
       "<table border=\"1\" class=\"dataframe\">\n",
       "  <thead>\n",
       "    <tr style=\"text-align: right;\">\n",
       "      <th></th>\n",
       "      <th>City</th>\n",
       "      <th>Lat</th>\n",
       "      <th>Lng</th>\n",
       "      <th>Max Temp</th>\n",
       "      <th>Humidity</th>\n",
       "      <th>Cloudiness</th>\n",
       "      <th>Wind Speed</th>\n",
       "      <th>Country</th>\n",
       "      <th>Date</th>\n",
       "    </tr>\n",
       "    <tr>\n",
       "      <th>City_ID</th>\n",
       "      <th></th>\n",
       "      <th></th>\n",
       "      <th></th>\n",
       "      <th></th>\n",
       "      <th></th>\n",
       "      <th></th>\n",
       "      <th></th>\n",
       "      <th></th>\n",
       "      <th></th>\n",
       "    </tr>\n",
       "  </thead>\n",
       "  <tbody>\n",
       "    <tr>\n",
       "      <th>0</th>\n",
       "      <td>rio grande</td>\n",
       "      <td>-32.0350</td>\n",
       "      <td>-52.0986</td>\n",
       "      <td>16.55</td>\n",
       "      <td>65</td>\n",
       "      <td>10</td>\n",
       "      <td>4.66</td>\n",
       "      <td>BR</td>\n",
       "      <td>1681441105</td>\n",
       "    </tr>\n",
       "    <tr>\n",
       "      <th>3</th>\n",
       "      <td>tuatapere</td>\n",
       "      <td>-46.1333</td>\n",
       "      <td>167.6833</td>\n",
       "      <td>17.97</td>\n",
       "      <td>60</td>\n",
       "      <td>0</td>\n",
       "      <td>1.74</td>\n",
       "      <td>NZ</td>\n",
       "      <td>1681441106</td>\n",
       "    </tr>\n",
       "    <tr>\n",
       "      <th>8</th>\n",
       "      <td>rikitea</td>\n",
       "      <td>-23.1203</td>\n",
       "      <td>-134.9692</td>\n",
       "      <td>23.30</td>\n",
       "      <td>86</td>\n",
       "      <td>100</td>\n",
       "      <td>11.08</td>\n",
       "      <td>PF</td>\n",
       "      <td>1681440906</td>\n",
       "    </tr>\n",
       "    <tr>\n",
       "      <th>9</th>\n",
       "      <td>ushuaia</td>\n",
       "      <td>-54.8000</td>\n",
       "      <td>-68.3000</td>\n",
       "      <td>3.81</td>\n",
       "      <td>81</td>\n",
       "      <td>0</td>\n",
       "      <td>0.51</td>\n",
       "      <td>AR</td>\n",
       "      <td>1681441108</td>\n",
       "    </tr>\n",
       "    <tr>\n",
       "      <th>10</th>\n",
       "      <td>vaini</td>\n",
       "      <td>-21.2000</td>\n",
       "      <td>-175.2000</td>\n",
       "      <td>30.09</td>\n",
       "      <td>70</td>\n",
       "      <td>20</td>\n",
       "      <td>6.69</td>\n",
       "      <td>TO</td>\n",
       "      <td>1681441109</td>\n",
       "    </tr>\n",
       "  </tbody>\n",
       "</table>\n",
       "</div>"
      ],
      "text/plain": [
       "               City      Lat       Lng  Max Temp  Humidity  Cloudiness  \\\n",
       "City_ID                                                                  \n",
       "0        rio grande -32.0350  -52.0986     16.55        65          10   \n",
       "3         tuatapere -46.1333  167.6833     17.97        60           0   \n",
       "8           rikitea -23.1203 -134.9692     23.30        86         100   \n",
       "9           ushuaia -54.8000  -68.3000      3.81        81           0   \n",
       "10            vaini -21.2000 -175.2000     30.09        70          20   \n",
       "\n",
       "         Wind Speed Country        Date  \n",
       "City_ID                                  \n",
       "0              4.66      BR  1681441105  \n",
       "3              1.74      NZ  1681441106  \n",
       "8             11.08      PF  1681440906  \n",
       "9              0.51      AR  1681441108  \n",
       "10             6.69      TO  1681441109  "
      ]
     },
     "execution_count": 25,
     "metadata": {},
     "output_type": "execute_result"
    }
   ],
   "source": [
    "# Create a DataFrame with the Southern Hemisphere data (Latitude < 0)\n",
    "# YOUR CODE HERE\n",
    "southern=city_data_df.loc[city_data_df[\"Lat\"]<0]\n",
    "southern_df = pd.DataFrame(southern)\n",
    "# Display sample data\n",
    "southern_df.head()"
   ]
  },
  {
   "cell_type": "markdown",
   "metadata": {},
   "source": [
    "###  Temperature vs. Latitude Linear Regression Plot"
   ]
  },
  {
   "cell_type": "code",
   "execution_count": 26,
   "metadata": {},
   "outputs": [
    {
     "data": {
      "text/plain": [
       "[<matplotlib.lines.Line2D at 0x7fd053f2d550>]"
      ]
     },
     "execution_count": 26,
     "metadata": {},
     "output_type": "execute_result"
    },
    {
     "data": {
      "image/png": "[encoded data removed]",
      "text/plain": [
       "<Figure size 432x288 with 1 Axes>"
      ]
     },
     "metadata": {
      "needs_background": "light"
     },
     "output_type": "display_data"
    }
   ],
   "source": [
    "# Linear regression on Northern Hemisphere\n",
    "# YOUR CODE HERE\n",
    "x_values=northern_df['Lat']\n",
    "y_values=northern_df['Max Temp']\n",
    "(slope, intercept, rvalue, pvalue, stderr)=linregress(x_values, y_values)\n",
    "regress_values = x_values * slope + intercept\n",
    "plt.scatter(x_values, y_values)\n",
    "plt.plot(x_values,regress_values, \"r-\")\n",
    "\n"
   ]
  },
  {
   "cell_type": "code",
   "execution_count": 27,
   "metadata": {},
   "outputs": [
    {
     "data": {
      "text/plain": [
       "[<matplotlib.lines.Line2D at 0x7fd0534b4310>]"
      ]
     },
     "execution_count": 27,
     "metadata": {},
     "output_type": "execute_result"
    },
    {
     "data": {
      "image/png": "[encoded data removed]",
      "text/plain": [
       "<Figure size 432x288 with 1 Axes>"
      ]
     },
     "metadata": {
      "needs_background": "light"
     },
     "output_type": "display_data"
    }
   ],
   "source": [
    "# Linear regression on Southern Hemisphere\n",
    "# YOUR CODE HERE\n",
    "x_values=southern_df['Lat']\n",
    "y_values=southern_df['Max Temp']\n",
    "(slope, intercept, rvalue, pvalue, stderr)=linregress(x_values, y_values)\n",
    "regress_values = x_values * slope + intercept\n",
    "plt.scatter(x_values, y_values)\n",
    "plt.plot(x_values,regress_values, \"r-\")"
   ]
  },
  {
   "cell_type": "markdown",
   "metadata": {},
   "source": [
    "**Discussion about the linear relationship:** Based off of the linear regression line of both the southern and northern hempisphere graphs, there seems to be a pretty strong correlation between the max temperature and the latitude location. In the Northern Hempisphere the further east you go, the max temp gets colder, and vise versa. In the southern hemisphere, the further west you go the temperature gets colder."
   ]
  },
  {
   "cell_type": "markdown",
   "metadata": {},
   "source": [
    "### Humidity vs. Latitude Linear Regression Plot"
   ]
  },
  {
   "cell_type": "code",
   "execution_count": 28,
   "metadata": {},
   "outputs": [
    {
     "data": {
      "text/plain": [
       "[<matplotlib.lines.Line2D at 0x7fd05368ce50>]"
      ]
     },
     "execution_count": 28,
     "metadata": {},
     "output_type": "execute_result"
    },
    {
     "data": {
      "image/png": "[encoded data removed]",
      "text/plain": [
       "<Figure size 432x288 with 1 Axes>"
      ]
     },
     "metadata": {
      "needs_background": "light"
     },
     "output_type": "display_data"
    }
   ],
   "source": [
    "# Northern Hemisphere\n",
    "# YOUR CODE HERE\n",
    "x_values=northern_df['Lat']\n",
    "y_values=northern_df['Humidity']\n",
    "(slope, intercept, rvalue, pvalue, stderr)=linregress(x_values, y_values)\n",
    "regress_values = x_values * slope + intercept\n",
    "plt.scatter(x_values, y_values)\n",
    "plt.plot(x_values,regress_values, \"r-\")"
   ]
  },
  {
   "cell_type": "code",
   "execution_count": 29,
   "metadata": {},
   "outputs": [
    {
     "data": {
      "text/plain": [
       "[<matplotlib.lines.Line2D at 0x7fd0544827d0>]"
      ]
     },
     "execution_count": 29,
     "metadata": {},
     "output_type": "execute_result"
    },
    {
     "data": {
      "image/png": "[encoded data removed]",
      "text/plain": [
       "<Figure size 432x288 with 1 Axes>"
      ]
     },
     "metadata": {
      "needs_background": "light"
     },
     "output_type": "display_data"
    }
   ],
   "source": [
    "# Southern Hemisphere\n",
    "# YOUR CODE HERE\n",
    "x_values=southern_df['Lat']\n",
    "y_values=southern_df['Humidity']\n",
    "(slope, intercept, rvalue, pvalue, stderr)=linregress(x_values, y_values)\n",
    "regress_values = x_values * slope + intercept\n",
    "plt.scatter(x_values, y_values)\n",
    "plt.plot(x_values,regress_values, \"r-\")"
   ]
  },
  {
   "cell_type": "markdown",
   "metadata": {},
   "source": [
    "**Discussion about the linear relationship:** Based off of the linear regression lines of both the southern and northern hemisphere, there is not a strong correlation between latitude location and humidity."
   ]
  },
  {
   "cell_type": "markdown",
   "metadata": {},
   "source": [
    "### Cloudiness vs. Latitude Linear Regression Plot"
   ]
  },
  {
   "cell_type": "code",
   "execution_count": 30,
   "metadata": {},
   "outputs": [
    {
     "data": {
      "text/plain": [
       "[<matplotlib.lines.Line2D at 0x7fd0543a9c10>]"
      ]
     },
     "execution_count": 30,
     "metadata": {},
     "output_type": "execute_result"
    },
    {
     "data": {
      "image/png": "[encoded data removed]",
      "text/plain": [
       "<Figure size 432x288 with 1 Axes>"
      ]
     },
     "metadata": {
      "needs_background": "light"
     },
     "output_type": "display_data"
    }
   ],
   "source": [
    "# Northern Hemisphere\n",
    "# YOUR CODE HERE\n",
    "x_values=northern_df['Lat']\n",
    "y_values=northern_df['Cloudiness']\n",
    "(slope, intercept, rvalue, pvalue, stderr)=linregress(x_values, y_values)\n",
    "regress_values = x_values * slope + intercept\n",
    "plt.scatter(x_values, y_values)\n",
    "plt.plot(x_values,regress_values, \"r-\")"
   ]
  },
  {
   "cell_type": "code",
   "execution_count": 31,
   "metadata": {},
   "outputs": [
    {
     "data": {
      "text/plain": [
       "[<matplotlib.lines.Line2D at 0x7fd0544829d0>]"
      ]
     },
     "execution_count": 31,
     "metadata": {},
     "output_type": "execute_result"
    },
    {
     "data": {
      "image/png": "[encoded data removed]",
      "text/plain": [
       "<Figure size 432x288 with 1 Axes>"
      ]
     },
     "metadata": {
      "needs_background": "light"
     },
     "output_type": "display_data"
    }
   ],
   "source": [
    "# Southern Hemisphere\n",
    "# YOUR CODE HERE\n",
    "x_values=southern_df['Lat']\n",
    "y_values=southern_df['Cloudiness']\n",
    "(slope, intercept, rvalue, pvalue, stderr)=linregress(x_values, y_values)\n",
    "regress_values = x_values * slope + intercept\n",
    "plt.scatter(x_values, y_values)\n",
    "plt.plot(x_values,regress_values, \"r-\")"
   ]
  },
  {
   "cell_type": "markdown",
   "metadata": {},
   "source": [
    "**Discussion about the linear relationship:** Based off of the linear regression lines of both the southern and northern hemisphere, there is not a strong correlation between latitude location and cloudiness."
   ]
  },
  {
   "cell_type": "markdown",
   "metadata": {},
   "source": [
    "### Wind Speed vs. Latitude Linear Regression Plot"
   ]
  },
  {
   "cell_type": "code",
   "execution_count": 32,
   "metadata": {},
   "outputs": [
    {
     "data": {
      "text/plain": [
       "[<matplotlib.lines.Line2D at 0x7fd054465510>]"
      ]
     },
     "execution_count": 32,
     "metadata": {},
     "output_type": "execute_result"
    },
    {
     "data": {
      "image/png": "[encoded data removed]",
      "text/plain": [
       "<Figure size 432x288 with 1 Axes>"
      ]
     },
     "metadata": {
      "needs_background": "light"
     },
     "output_type": "display_data"
    }
   ],
   "source": [
    "# Northern Hemisphere\n",
    "# YOUR CODE HERE\n",
    "x_values=northern_df['Lat']\n",
    "y_values=northern_df['Wind Speed']\n",
    "(slope, intercept, rvalue, pvalue, stderr)=linregress(x_values, y_values)\n",
    "regress_values = x_values * slope + intercept\n",
    "plt.scatter(x_values, y_values)\n",
    "plt.plot(x_values,regress_values, \"r-\")"
   ]
  },
  {
   "cell_type": "code",
   "execution_count": 33,
   "metadata": {},
   "outputs": [
    {
     "data": {
      "text/plain": [
       "[<matplotlib.lines.Line2D at 0x7fd054920490>]"
      ]
     },
     "execution_count": 33,
     "metadata": {},
     "output_type": "execute_result"
    },
    {
     "data": {
      "image/png": "[encoded data removed]",
      "text/plain": [
       "<Figure size 432x288 with 1 Axes>"
      ]
     },
     "metadata": {
      "needs_background": "light"
     },
     "output_type": "display_data"
    }
   ],
   "source": [
    "# Southern Hemisphere\n",
    "# YOUR CODE HERE\n",
    "x_values=southern_df['Lat']\n",
    "y_values=southern_df['Wind Speed']\n",
    "(slope, intercept, rvalue, pvalue, stderr)=linregress(x_values, y_values)\n",
    "regress_values = x_values * slope + intercept\n",
    "plt.scatter(x_values, y_values)\n",
    "plt.plot(x_values,regress_values, \"r-\")"
   ]
  },
  {
   "cell_type": "markdown",
   "metadata": {},
   "source": [
    "**Discussion about the linear relationship:** Based off of the linear regression lines of both the southern and northern hemisphere, there is a very weak correlation between latitude location and Wind Speed. There is slight correlation, but not very strong. "
   ]
  }
 ],
 "metadata": {
  "anaconda-cloud": {},
  "kernel_info": {
   "name": "python3"
  },
  "kernelspec": {
   "display_name": "Python [conda env:PythonData] *",
   "language": "python",
   "name": "conda-env-PythonData-py"
  },
  "language_info": {
   "codemirror_mode": {
    "name": "ipython",
    "version": 3
   },
   "file_extension": ".py",
   "mimetype": "text/x-python",
   "name": "python",
   "nbconvert_exporter": "python",
   "pygments_lexer": "ipython3",
   "version": "3.7.7"
  },
  "latex_envs": {
   "LaTeX_envs_menu_present": true,
   "autoclose": false,
   "autocomplete": true,
   "bibliofile": "biblio.bib",
   "cite_by": "apalike",
   "current_citInitial": 1,
   "eqLabelWithNumbers": true,
   "eqNumInitial": 1,
   "hotkeys": {
    "equation": "Ctrl-E",
    "itemize": "Ctrl-I"
   },
   "labels_anchors": false,
   "latex_user_defs": false,
   "report_style_numbering": false,
   "user_envs_cfg": false
  },
  "nteract": {
   "version": "0.12.3"
  }
 },
 "nbformat": 4,
 "nbformat_minor": 4
}
